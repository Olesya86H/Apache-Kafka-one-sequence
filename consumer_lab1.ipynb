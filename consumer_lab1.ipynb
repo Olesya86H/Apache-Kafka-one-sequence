{
 "cells": [
  {
   "cell_type": "code",
   "execution_count": 1,
   "id": "f80ce2ca",
   "metadata": {},
   "outputs": [],
   "source": [
    "from kafka import KafkaConsumer\n",
    "from json import loads"
   ]
  },
  {
   "cell_type": "code",
   "execution_count": 2,
   "id": "9898ae2b",
   "metadata": {},
   "outputs": [],
   "source": [
    "consumer = KafkaConsumer(\n",
    "    'numtest',\n",
    "     bootstrap_servers=['localhost:9092'],\n",
    "     auto_offset_reset='earliest',\n",
    "     enable_auto_commit=True,\n",
    "     group_id='my-group',\n",
    "     value_deserializer=lambda x: loads(x.decode('utf-8')),\n",
    "     api_version=(0, 10, 1),\n",
    "     security_protocol='PLAINTEXT')"
   ]
  },
  {
   "cell_type": "code",
   "execution_count": null,
   "id": "63c9d249",
   "metadata": {},
   "outputs": [
    {
     "name": "stdout",
     "output_type": "stream",
     "text": [
      "{'number': 0} added\n",
      "{'number': 1} added\n",
      "{'number': 2} added\n",
      "{'number': 3} added\n",
      "{'number': 4} added\n",
      "{'number': 5} added\n",
      "{'number': 6} added\n",
      "{'number': 7} added\n",
      "{'number': 8} added\n",
      "{'number': 9} added\n"
     ]
    }
   ],
   "source": [
    "for message in consumer:\n",
    "    message = message.value\n",
    "    print('{} added'.format(message))"
   ]
  },
  {
   "cell_type": "code",
   "execution_count": null,
   "id": "fba53293",
   "metadata": {},
   "outputs": [],
   "source": []
  }
 ],
 "metadata": {
  "kernelspec": {
   "display_name": "Python 3 (ipykernel)",
   "language": "python",
   "name": "python3"
  },
  "language_info": {
   "codemirror_mode": {
    "name": "ipython",
    "version": 3
   },
   "file_extension": ".py",
   "mimetype": "text/x-python",
   "name": "python",
   "nbconvert_exporter": "python",
   "pygments_lexer": "ipython3",
   "version": "3.10.5"
  }
 },
 "nbformat": 4,
 "nbformat_minor": 5
}
